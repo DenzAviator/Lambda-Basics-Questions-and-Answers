{
 "cells": [
  {
   "cell_type": "markdown",
   "id": "74739978",
   "metadata": {},
   "source": [
    "1. What is a lambda function in Python, and how does it differ from a regular function?"
   ]
  },
  {
   "cell_type": "markdown",
   "id": "3900a90e",
   "metadata": {},
   "source": [
    "A lambda function in Python is a small, anonymous function. It is often referred to as an anonymous function because it does not have a name. Lambda functions are defined using the lambda keyword, followed by the arguments of the function, a colon, and the expression that the function will evaluate.\n",
    "\n",
    "Here is an example of a lambda function:"
   ]
  },
  {
   "cell_type": "code",
   "execution_count": 3,
   "id": "e9444155",
   "metadata": {},
   "outputs": [
    {
     "name": "stdout",
     "output_type": "stream",
     "text": [
      "10\n",
      "10\n"
     ]
    }
   ],
   "source": [
    "def double(x):\n",
    "    return 2 * x\n",
    "\n",
    "double_lambda = lambda x: 2 * x\n",
    "\n",
    "print(double(5))\n",
    "print(double_lambda(5))"
   ]
  },
  {
   "cell_type": "markdown",
   "id": "0940b029",
   "metadata": {},
   "source": [
    "A regular function in Python is a function that has a name and can be defined using the def keyword. Regular functions can be any length and can contain multiple expressions. They can also be used as arguments to other functions, just like lambda functions."
   ]
  },
  {
   "cell_type": "code",
   "execution_count": null,
   "id": "bbb18411",
   "metadata": {},
   "outputs": [],
   "source": []
  },
  {
   "cell_type": "markdown",
   "id": "e3be844e",
   "metadata": {},
   "source": [
    "2. Can a lambda function in Python have multiple arguments? If yes, how can you define and use them? \n",
    "\n",
    "Lambda functions with multiple arguments can be used in any situation where a regular function with multiple arguments can be used. For example, they can be used as the callback function in a map() or filter() call.\n",
    "\n",
    "lambda arg1, arg2, ..., argn: expression"
   ]
  },
  {
   "cell_type": "code",
   "execution_count": 4,
   "id": "370b9593",
   "metadata": {},
   "outputs": [],
   "source": [
    "#Here's an example of a lambda function with two arguments that calculates the sum of the two numbers:\n",
    "\n",
    "sum_lambda = lambda x, y: x + y"
   ]
  },
  {
   "cell_type": "code",
   "execution_count": 5,
   "id": "09c428a6",
   "metadata": {},
   "outputs": [
    {
     "name": "stdout",
     "output_type": "stream",
     "text": [
      "8\n"
     ]
    }
   ],
   "source": [
    "#You can then call this lambda function by passing values for the arguments, like a regular function:\n",
    "\n",
    "result = sum_lambda(5, 3)\n",
    "print(result)  # Output: 8"
   ]
  },
  {
   "cell_type": "markdown",
   "id": "2a2053de",
   "metadata": {},
   "source": [
    "In the example above, the lambda function takes two arguments, x and y, and returns their sum. When called with the values 5 and 3, it returns 8, which is assigned to the result variable.\n",
    "\n",
    "You can use lambda functions with multiple arguments in various contexts, such as sorting, filtering, mapping, or any other situation where you need a simple function without explicitly defining a named function.\n"
   ]
  },
  {
   "cell_type": "code",
   "execution_count": null,
   "id": "3529ec87",
   "metadata": {},
   "outputs": [],
   "source": []
  },
  {
   "cell_type": "markdown",
   "id": "e8f8c375",
   "metadata": {},
   "source": [
    " 3. How are lambda functions typically used in Python? Provide an example use case.\n",
    "    \n",
    "Lambda functions, also known as anonymous functions, are small, inline functions in Python that are defined without a name. They are typically used in situations where a small, one-time function is required, and it is not necessary to define a separate named function for it.\n",
    "\n",
    "Lambda functions are commonly used in combination with higher-order functions like map(), filter(), and reduce(), which accept functions as arguments. They are also used when a function needs to be passed as an argument to another function, such as in sorting or event-driven programming.\n",
    "\n",
    "Here's an example use case to demonstrate the usage of lambda functions in Python:"
   ]
  },
  {
   "cell_type": "code",
   "execution_count": 9,
   "id": "36f5285b",
   "metadata": {},
   "outputs": [
    {
     "name": "stdout",
     "output_type": "stream",
     "text": [
      "[1, 4, 9, 16, 25]\n"
     ]
    }
   ],
   "source": [
    "# Using lambda function with map()\n",
    "numbers = [1, 2, 3, 4, 5]\n",
    "squared_numbers = map(lambda x: x ** 2, numbers)\n",
    "print(list(squared_numbers))  # Output: [1, 4, 9, 16, 25]"
   ]
  },
  {
   "cell_type": "code",
   "execution_count": 11,
   "id": "e00f6a90",
   "metadata": {},
   "outputs": [
    {
     "name": "stdout",
     "output_type": "stream",
     "text": [
      "[2, 4]\n"
     ]
    }
   ],
   "source": [
    "# Using lambda function with filter()\n",
    "numbers = [1, 2, 3, 4, 5]\n",
    "even_numbers = filter(lambda x: x % 2 == 0, numbers)\n",
    "print(list(even_numbers))  # Output: [2, 4]"
   ]
  },
  {
   "cell_type": "code",
   "execution_count": 4,
   "id": "4953d004",
   "metadata": {},
   "outputs": [
    {
     "name": "stdout",
     "output_type": "stream",
     "text": [
      "[{'name': 'Chat', 'age': 24}, {'name': 'Dennis', 'age': 30}, {'name': 'Kuyet', 'age': 34}, {'name': 'Gwafan', 'age': 70}]\n"
     ]
    }
   ],
   "source": [
    "# Using lambda function with sorting\n",
    "students = [\n",
    "    {\"name\": \"Dennis\", \"age\": 30},\n",
    "    {\"name\": \"Gwafan\", \"age\": 70},\n",
    "    {\"name\": \"Kuyet\", \"age\": 34},\n",
    "    {\"name\": \"Chat\", \"age\": 24},\n",
    "]\n",
    "students.sort(key=lambda student: student[\"age\"])\n",
    "print(students)\n",
    "# Output: [{'name': 'Bob', 'age': 18}, {'name': 'Dave', 'age': 19},\n",
    "#          {'name': 'Alice', 'age': 20}, {'name': 'Charlie', 'age': 22}]"
   ]
  },
  {
   "cell_type": "markdown",
   "id": "303984cc",
   "metadata": {},
   "source": [
    "In this example, the lambda function lambda student: student[\"age\"] is used as the key function for sorting the students list based on the \"age\" key in each dictionary. It sorts the list in ascending order of ages.\n",
    "\n",
    "These examples demonstrate how lambda functions can be used in concise and compact ways to perform specific operations without the need for defining separate named functions."
   ]
  },
  {
   "cell_type": "code",
   "execution_count": null,
   "id": "44909195",
   "metadata": {},
   "outputs": [],
   "source": []
  },
  {
   "cell_type": "markdown",
   "id": "10eb10d8",
   "metadata": {},
   "source": [
    "4. What are the advantages and limitations of lambda functions compared to regular functions in Python?\n",
    "\n",
    "\n",
    "Lambda functions, also known as anonymous functions, provide a concise way to create small, one-line functions in Python. While they have some advantages over regular functions, they also come with certain limitations. Let's explore the advantages and limitations of lambda functions compared to regular functions:\n",
    "\n",
    "Advantages of Lambda Functions:\n",
    "\n",
    "(a). Concise Syntax: Lambda functions allow you to define simple functions in a compact manner. They are typically written in a single line, making them useful for short, one-time-use functions.\n",
    "\n",
    "(b). Anonymous Nature: Lambda functions are anonymous, meaning they don't require a name. This can be useful when you need a function for a specific purpose without the need for reusability.\n",
    "\n",
    "(c). Function as Arguments: Lambda functions can be passed as arguments to other functions. This is especially handy when using higher-order functions like map(), filter(), and reduce(). It enables you to define small functions inline without the need for a separate function definition.\n",
    "\n",
    "(d). Readability in Context: When used in conjunction with other higher-order functions, lambda functions can improve code readability by keeping the logic concise and inline.\n",
    "\n",
    "    \n",
    "Limitations of Lambda Functions:\n",
    "\n",
    "(a). Single Expression: Lambda functions are limited to a single expression. They cannot contain multiple statements or complex logic. If your function requires multiple statements or more complex operations, a regular function is more appropriate.\n",
    "\n",
    "No Statements or Documentation: Lambda functions can only contain expressions, not statements like if, for, or return. They are primarily intended for simple calculations or transformations. Additionally, they cannot include docstrings for documentation, making them less suitable for complex or self-explanatory code.\n",
    "\n",
    "(b). Lack of Reusability: Due to their anonymous nature, lambda functions cannot be reused in multiple places within your code. They are generally used for immediate and short-lived operations rather than as standalone functions.\n",
    "\n",
    "(c). Limited Functionality: Lambda functions are not as flexible as regular functions. They are unable to handle more complex scenarios that regular functions can, such as recursion, exception handling, or accessing variables outside their scope.\n",
    "\n",
    "Overall, lambda functions provide a convenient way to create simple functions on the fly, especially when used in combination with higher-order functions. However, for more complex operations, regular functions offer greater flexibility, reusability, and readability"
   ]
  },
  {
   "cell_type": "code",
   "execution_count": null,
   "id": "d623f0ae",
   "metadata": {},
   "outputs": [],
   "source": []
  },
  {
   "cell_type": "markdown",
   "id": "849d2119",
   "metadata": {},
   "source": [
    "5. Are lambda functions in Python able to access variables defined outside of their own scope? Explain with an example\n",
    "\n",
    "Yes, lambda functions in Python can access variables defined outside of their own scope. This concept is known as \"lexical scoping\" or \"closure.\" When a lambda function references a variable, it looks for that variable in its own local scope, and if it's not found, it looks for it in the enclosing scopes."
   ]
  },
  {
   "cell_type": "code",
   "execution_count": 15,
   "id": "8f23d6af",
   "metadata": {},
   "outputs": [
    {
     "name": "stdout",
     "output_type": "stream",
     "text": [
      "15\n"
     ]
    }
   ],
   "source": [
    "def outer_function():\n",
    "    x = 10\n",
    "\n",
    "    # Define a lambda function that references the variable 'x'\n",
    "    lambda_func = lambda y: x + y\n",
    "\n",
    "    return lambda_func\n",
    "\n",
    "# Call the outer function and assign the returned lambda function to 'my_lambda'\n",
    "my_lambda = outer_function()\n",
    "\n",
    "# Call the lambda function with an argument\n",
    "result = my_lambda(5)\n",
    "\n",
    "print(result)  # Output: 15"
   ]
  },
  {
   "cell_type": "markdown",
   "id": "596620e3",
   "metadata": {},
   "source": [
    "In this example, the outer_function defines a local variable x with a value of 10. It then creates a lambda function called lambda_func that takes an argument y and returns the sum of x and y. The lambda function references the variable x, which is defined outside of its own scope.\n",
    "\n",
    "When outer_function is called and the lambda function is returned and assigned to my_lambda, the value of x (which is 10) is \"remembered\" by the lambda function. Later, when my_lambda is called with an argument of 5, it adds the value of x (10) to the argument (5), resulting in 15.\n",
    "\n",
    "This example demonstrates how lambda functions can access variables from their enclosing scopes, allowing them to capture and use values from their surrounding context."
   ]
  },
  {
   "cell_type": "code",
   "execution_count": null,
   "id": "7df0b100",
   "metadata": {},
   "outputs": [],
   "source": []
  },
  {
   "cell_type": "markdown",
   "id": "9e31f8f2",
   "metadata": {},
   "source": [
    "6. Write a lambda function to calculate the square of a given number"
   ]
  },
  {
   "cell_type": "code",
   "execution_count": 24,
   "id": "7d07c235",
   "metadata": {},
   "outputs": [
    {
     "name": "stdout",
     "output_type": "stream",
     "text": [
      "25\n"
     ]
    }
   ],
   "source": [
    "square = lambda x: x**2\n",
    "\n",
    "# Testing the lambda function\n",
    "number = 5\n",
    "result = square(number)\n",
    "print(result)  # Output: 25"
   ]
  },
  {
   "cell_type": "markdown",
   "id": "0adf59fd",
   "metadata": {},
   "source": [
    "In this lambda function, lambda x defines the function with the input parameter x, and x**2 calculates the square of x. You can call the square lambda function with any number to calculate its square. In the example above, we pass the number 5 and store the result in the result variable, which is then printed to the console."
   ]
  },
  {
   "cell_type": "code",
   "execution_count": null,
   "id": "00c5d896",
   "metadata": {},
   "outputs": [],
   "source": []
  },
  {
   "cell_type": "markdown",
   "id": "25c20e4d",
   "metadata": {},
   "source": [
    "7. Create a lambda function to find the maximum value in a list of integers"
   ]
  },
  {
   "cell_type": "code",
   "execution_count": 23,
   "id": "e1cdc568",
   "metadata": {},
   "outputs": [
    {
     "name": "stdout",
     "output_type": "stream",
     "text": [
      "15\n"
     ]
    }
   ],
   "source": [
    "max_value = lambda lst: max(lst)\n",
    "\n",
    "# Example usage\n",
    "my_list = [5, 10, 3, 8, 15]\n",
    "result = max_value(my_list)\n",
    "print(result)  # Output: 15"
   ]
  },
  {
   "cell_type": "markdown",
   "id": "44e53c0a",
   "metadata": {},
   "source": [
    "In this lambda function, max_value takes a list (lst) as its input and uses the built-in max() function to find the maximum value within the list. The result is then returned as the output of the lambda function.\n",
    "\n",
    "You can pass any list of integers to this lambda function by calling it with the desired list as an argument. The maximum value will be returned as the result.\n",
    "\n",
    "\n",
    "\n",
    "\n",
    "\n"
   ]
  },
  {
   "cell_type": "code",
   "execution_count": null,
   "id": "b88f953d",
   "metadata": {},
   "outputs": [],
   "source": []
  },
  {
   "cell_type": "markdown",
   "id": "7e8f19ad",
   "metadata": {},
   "source": [
    "8. Implement a lambda function to filter out all the even numbers from a list of integers"
   ]
  },
  {
   "cell_type": "code",
   "execution_count": 25,
   "id": "c978756c",
   "metadata": {},
   "outputs": [
    {
     "name": "stdout",
     "output_type": "stream",
     "text": [
      "[1, 3, 5, 7, 9]\n"
     ]
    }
   ],
   "source": [
    "numbers = [1, 2, 3, 4, 5, 6, 7, 8, 9, 10]\n",
    "\n",
    "filtered_numbers = list(filter(lambda x: x % 2 != 0, numbers))\n",
    "\n",
    "print(filtered_numbers)"
   ]
  },
  {
   "cell_type": "markdown",
   "id": "46e2757a",
   "metadata": {},
   "source": [
    "In this example, the lambda function lambda x: x % 2 != 0 is used as the filtering condition. It checks if each element x in the numbers list is not divisible by 2, i.e., if it's an odd number. The filter() function applies this lambda function to each element of the list and returns only the elements for which the lambda function returns True. Finally, list() is used to convert the filtered result into a list."
   ]
  },
  {
   "cell_type": "code",
   "execution_count": null,
   "id": "1cae68d9",
   "metadata": {},
   "outputs": [],
   "source": []
  },
  {
   "cell_type": "markdown",
   "id": "ef720c8f",
   "metadata": {},
   "source": [
    "9. Write a lambda function to sort a list of strings in ascending order based on the length of each string."
   ]
  },
  {
   "cell_type": "code",
   "execution_count": 26,
   "id": "f7e73b59",
   "metadata": {},
   "outputs": [
    {
     "name": "stdout",
     "output_type": "stream",
     "text": [
      "['date', 'apple', 'banana', 'cherry', 'elderberry']\n"
     ]
    }
   ],
   "source": [
    "strings = [\"apple\", \"banana\", \"cherry\", \"date\", \"elderberry\"]\n",
    "\n",
    "sorted_strings = sorted(strings, key=lambda x: len(x))\n",
    "\n",
    "print(sorted_strings)"
   ]
  },
  {
   "cell_type": "markdown",
   "id": "b6150857",
   "metadata": {},
   "source": [
    "In this lambda function, the key parameter specifies the function that will be used to extract a comparison key from each element in the list. Here, lambda x: len(x) returns the length of each string x, and sorted() uses this key to sort the list in ascending order based on string length.\n",
    "\n",
    "Feel free to replace the strings list with your own list of strings, and the lambda function will sort them accordingly."
   ]
  },
  {
   "cell_type": "code",
   "execution_count": null,
   "id": "7b7e9264",
   "metadata": {},
   "outputs": [],
   "source": []
  },
  {
   "cell_type": "markdown",
   "id": "6b0eaaaa",
   "metadata": {},
   "source": [
    "10.Create a lambda function that takes two lists as input and returns a new list containing the common elements between the two lists. "
   ]
  },
  {
   "cell_type": "code",
   "execution_count": 27,
   "id": "011e838a",
   "metadata": {},
   "outputs": [],
   "source": [
    "common_elements = lambda list1, list2: list(set(list1) & set(list2))"
   ]
  },
  {
   "cell_type": "markdown",
   "id": "61f4baf6",
   "metadata": {},
   "source": [
    "In this lambda function, the set() function is used to convert the input lists into sets, which automatically removes duplicate elements. Then, the & operator is used to perform an intersection between the two sets, resulting in a new set containing the common elements. Finally, the list() function is used to convert the set back into a list.\n",
    "\n",
    "You can use this lambda function by passing your two lists as arguments, like this:"
   ]
  },
  {
   "cell_type": "code",
   "execution_count": 28,
   "id": "1257af43",
   "metadata": {},
   "outputs": [
    {
     "name": "stdout",
     "output_type": "stream",
     "text": [
      "[4, 5]\n"
     ]
    }
   ],
   "source": [
    "list1 = [1, 2, 3, 4, 5]\n",
    "list2 = [4, 5, 6, 7, 8]\n",
    "result = common_elements(list1, list2)\n",
    "print(result)"
   ]
  },
  {
   "cell_type": "markdown",
   "id": "a216e6a4",
   "metadata": {},
   "source": [
    "The output will be [4, 5], which are the common elements between list1 and list2."
   ]
  },
  {
   "cell_type": "code",
   "execution_count": null,
   "id": "ffd14c50",
   "metadata": {},
   "outputs": [],
   "source": []
  },
  {
   "cell_type": "markdown",
   "id": "f0a70223",
   "metadata": {},
   "source": [
    "11. Write a recursive function to calculate the factorial of a given positive integer."
   ]
  },
  {
   "cell_type": "code",
   "execution_count": 30,
   "id": "27d12f5b",
   "metadata": {},
   "outputs": [],
   "source": [
    "def factorial(n):\n",
    "    if n == 0:\n",
    "        return 1\n",
    "    else:\n",
    "        return n * factorial(n - 1)"
   ]
  },
  {
   "cell_type": "markdown",
   "id": "3de79c08",
   "metadata": {},
   "source": [
    "In this recursive function, we check if the given number n is equal to 0. If it is, we return 1, as the factorial of 0 is defined to be 1. Otherwise, we recursively call the factorial function with n - 1 and multiply the result by n to calculate the factorial of n. Each recursive call reduces the value of n by 1 until it reaches 0, at which point the recursion stops.\n",
    "\n",
    "You can use this function like this:"
   ]
  },
  {
   "cell_type": "code",
   "execution_count": 31,
   "id": "dfe455b6",
   "metadata": {},
   "outputs": [
    {
     "name": "stdout",
     "output_type": "stream",
     "text": [
      "The factorial of 5 is 120\n"
     ]
    }
   ],
   "source": [
    "number = 5\n",
    "result = factorial(number)\n",
    "print(\"The factorial of\", number, \"is\", result)"
   ]
  },
  {
   "cell_type": "markdown",
   "id": "7bfdec11",
   "metadata": {},
   "source": [
    "The function works for any positive integer value and returns the factorial of that number."
   ]
  },
  {
   "cell_type": "code",
   "execution_count": null,
   "id": "adcf69bf",
   "metadata": {},
   "outputs": [],
   "source": []
  },
  {
   "cell_type": "markdown",
   "id": "b8493c6a",
   "metadata": {},
   "source": [
    "12.Implement a recursive function to compute the nth Fibonacci number. "
   ]
  },
  {
   "cell_type": "code",
   "execution_count": 33,
   "id": "bb7a34d2",
   "metadata": {},
   "outputs": [
    {
     "name": "stdout",
     "output_type": "stream",
     "text": [
      "Enter the value of n: 34\n",
      "The 34th Fibonacci number is: 3524578\n"
     ]
    }
   ],
   "source": [
    "def fibonacci(n):\n",
    "    if n <= 0:\n",
    "        return None  # Invalid input\n",
    "    elif n == 1:\n",
    "        return 0  # Base case: the first Fibonacci number is 0\n",
    "    elif n == 2:\n",
    "        return 1  # Base case: the second Fibonacci number is 1\n",
    "    else:\n",
    "        return fibonacci(n - 1) + fibonacci(n - 2)\n",
    "\n",
    "# Test the function\n",
    "n = int(input(\"Enter the value of n: \"))\n",
    "fib = fibonacci(n)\n",
    "if fib is not None:\n",
    "    print(f\"The {n}th Fibonacci number is: {fib}\")\n",
    "else:\n",
    "    print(\"Invalid input. n should be a positive integer.\")"
   ]
  },
  {
   "cell_type": "markdown",
   "id": "59f2a604",
   "metadata": {},
   "source": [
    "In this function, we handle the base cases where n equals 1 and 2, and for any other value of n, we recursively call the fibonacci function with n-1 and n-2 as arguments and sum up their results to get the nth Fibonacci number.\n",
    "\n",
    "Note: Recursive solutions for Fibonacci numbers can be inefficient for large values of n because they involve a lot of redundant calculations. To optimize the computation, it's better to use an iterative approach or memoization techniques."
   ]
  },
  {
   "cell_type": "code",
   "execution_count": null,
   "id": "0c42d100",
   "metadata": {},
   "outputs": [],
   "source": []
  },
  {
   "cell_type": "markdown",
   "id": "e7fda878",
   "metadata": {},
   "source": [
    "13.Create a recursive function to find the sum of all the elements in a given list."
   ]
  },
  {
   "cell_type": "code",
   "execution_count": 34,
   "id": "a071ec61",
   "metadata": {},
   "outputs": [
    {
     "name": "stdout",
     "output_type": "stream",
     "text": [
      "15\n"
     ]
    }
   ],
   "source": [
    "def recursive_sum(lst):\n",
    "    if len(lst) == 0:\n",
    "        return 0\n",
    "    else:\n",
    "        return lst[0] + recursive_sum(lst[1:])\n",
    "\n",
    "# Example usage\n",
    "my_list = [1, 2, 3, 4, 5]\n",
    "result = recursive_sum(my_list)\n",
    "print(result)  # Output: 15"
   ]
  },
  {
   "cell_type": "markdown",
   "id": "357c1039",
   "metadata": {},
   "source": [
    "In this function, we check the base case when the list lst is empty. If the list is empty, we return 0, indicating that there are no elements to sum. Otherwise, we add the first element of the list (lst[0]) to the sum of the remaining elements (recursive_sum(lst[1:])). This recursive call continues until the base case is reached.\n",
    "\n",
    "Note that this implementation assumes that the input is a valid list containing numeric elements."
   ]
  },
  {
   "cell_type": "code",
   "execution_count": null,
   "id": "fa5b89d2",
   "metadata": {},
   "outputs": [],
   "source": []
  },
  {
   "cell_type": "markdown",
   "id": "4134a1fc",
   "metadata": {},
   "source": [
    "14.Write a recursive function to determine whether a given string is a palindrome."
   ]
  },
  {
   "cell_type": "code",
   "execution_count": 35,
   "id": "15f4a502",
   "metadata": {},
   "outputs": [
    {
     "name": "stdout",
     "output_type": "stream",
     "text": [
      "True\n",
      "False\n",
      "True\n"
     ]
    }
   ],
   "source": [
    "def is_palindrome(string):\n",
    "    if len(string) <= 1:\n",
    "        return True\n",
    "    elif string[0] != string[-1]:\n",
    "        return False\n",
    "    else:\n",
    "        return is_palindrome(string[1:-1])\n",
    "\n",
    "# Example usage:\n",
    "print(is_palindrome(\"radar\"))  # True\n",
    "print(is_palindrome(\"hello\"))  # False\n",
    "print(is_palindrome(\"level\"))  # True"
   ]
  },
  {
   "cell_type": "markdown",
   "id": "2653bed5",
   "metadata": {},
   "source": [
    "In this recursive function, we check the following conditions:\n",
    "\n",
    "If the length of the string is less than or equal to 1, it is considered a palindrome (base case).\n",
    "If the first character and the last character of the string are different, it is not a palindrome.\n",
    "If the first and last characters are the same, we recursively call the function with the substring excluding the first and last characters.\n",
    "By applying these conditions recursively, we can determine whether a given string is a palindrome."
   ]
  },
  {
   "cell_type": "code",
   "execution_count": null,
   "id": "73da00f9",
   "metadata": {},
   "outputs": [],
   "source": []
  },
  {
   "cell_type": "markdown",
   "id": "632c2f66",
   "metadata": {},
   "source": [
    "15.Implement a recursive function to find the greatest common divisor (GCD) of two positive integers"
   ]
  },
  {
   "cell_type": "code",
   "execution_count": 36,
   "id": "46ae4c1a",
   "metadata": {},
   "outputs": [],
   "source": [
    "def gcd(a, b):\n",
    "    if b == 0:\n",
    "        return a\n",
    "    else:\n",
    "        return gcd(b, a % b)"
   ]
  },
  {
   "cell_type": "markdown",
   "id": "9fe0d988",
   "metadata": {},
   "source": [
    "In this function, we use the Euclidean algorithm to find the GCD. The algorithm states that the GCD of two numbers remains the same if we replace the larger number with the difference between the larger and the smaller number.\n",
    "\n",
    "Here's how the algorithm works:\n",
    "\n",
    "If b is equal to 0, then a is the GCD, so we return a.\n",
    "Otherwise, we call the gcd function recursively with the arguments (b, a % b). This replaces a with b and b with the remainder of a divided by b.\n",
    "We repeat steps 1 and 2 until b becomes 0, and then we return a, which is the GCD."
   ]
  },
  {
   "cell_type": "code",
   "execution_count": 37,
   "id": "7e02992d",
   "metadata": {},
   "outputs": [
    {
     "name": "stdout",
     "output_type": "stream",
     "text": [
      "The GCD of 24 and 36 is: 12\n"
     ]
    }
   ],
   "source": [
    "a = 24\n",
    "b = 36\n",
    "result = gcd(a, b)\n",
    "print(\"The GCD of\", a, \"and\", b, \"is:\", result)"
   ]
  },
  {
   "cell_type": "markdown",
   "id": "34ef5dc2",
   "metadata": {},
   "source": [
    "The function works recursively by continuously reducing the problem size until it reaches the base case (b == 0)."
   ]
  },
  {
   "cell_type": "code",
   "execution_count": null,
   "id": "e82b6271",
   "metadata": {},
   "outputs": [],
   "source": []
  }
 ],
 "metadata": {
  "kernelspec": {
   "display_name": "Python 3 (ipykernel)",
   "language": "python",
   "name": "python3"
  },
  "language_info": {
   "codemirror_mode": {
    "name": "ipython",
    "version": 3
   },
   "file_extension": ".py",
   "mimetype": "text/x-python",
   "name": "python",
   "nbconvert_exporter": "python",
   "pygments_lexer": "ipython3",
   "version": "3.10.9"
  }
 },
 "nbformat": 4,
 "nbformat_minor": 5
}
